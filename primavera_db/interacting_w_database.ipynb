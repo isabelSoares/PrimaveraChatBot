{
 "metadata": {
  "language_info": {
   "codemirror_mode": {
    "name": "ipython",
    "version": 3
   },
   "file_extension": ".py",
   "mimetype": "text/x-python",
   "name": "python",
   "nbconvert_exporter": "python",
   "pygments_lexer": "ipython3",
   "version": "3.9.6"
  },
  "orig_nbformat": 2,
  "kernelspec": {
   "name": "python3",
   "display_name": "Python 3.9.6 64-bit"
  },
  "interpreter": {
   "hash": "ac59ebe37160ed0dfa835113d9b8498d9f09ceb179beaac4002f036b9467c963"
  }
 },
 "nbformat": 4,
 "nbformat_minor": 2,
 "cells": [
  {
   "cell_type": "code",
   "execution_count": 8,
   "source": [
    "# !pip install pandas"
   ],
   "outputs": [],
   "metadata": {}
  },
  {
   "cell_type": "code",
   "execution_count": 9,
   "source": [
    "import sqlite3\r\n",
    "import random\r\n",
    "#import pandas as pd"
   ],
   "outputs": [],
   "metadata": {}
  },
  {
   "cell_type": "markdown",
   "source": [
    "In command line: \r\n",
    "\r\n",
    "```\r\n",
    "#launch sqlite command line tool & create database called resourcesDB\r\n",
    "sqlite3 resourcesDB   \r\n",
    "\r\n",
    "# tab-delimted file\r\n",
    ".separator \"\\t\"\r\n",
    "\r\n",
    "# create new table called \"eduresource\" w/ the content from our tsv\r\n",
    ".import edu_resource.csv eduresource\r\n",
    "```"
   ],
   "metadata": {}
  },
  {
   "cell_type": "code",
   "execution_count": 10,
   "source": [
    "# Next up: connecting to our data\r\n",
    "# online tutorial: https://www.sqlitetutorial.net/sqlite-python/sqlite-python-select/"
   ],
   "outputs": [],
   "metadata": {}
  },
  {
   "cell_type": "code",
   "execution_count": 11,
   "source": [
    "# add .csv to sqlite table\r\n",
    "import pandas as pd \r\n",
    "import sqlite3\r\n",
    "\r\n",
    "conn = sqlite3.connect(\"./resourcesDB\")\r\n",
    "dtypes = {'DATEKEY': int, 'ID': str, 'TYPE': str, 'VALUE_TO_PAY': float, 'PAYMENT_DATE': str}\r\n",
    "parseDates = ['PAYMENT_DATE']\r\n",
    "data = pd.read_csv('../obligations.csv', sep=';', dtype=dtypes, parse_dates=parseDates)\r\n",
    "data.to_sql(\"dataObligations\", conn, if_exists='append', index=False)\r\n"
   ],
   "outputs": [],
   "metadata": {}
  },
  {
   "cell_type": "code",
   "execution_count": 12,
   "source": [
    "# delete everything from data_obligations\r\n",
    "import sqlite3\r\n",
    "\r\n",
    "#sql = 'DELETE FROM dataObligations'\r\n",
    "#conn = sqlite3.connect(\"resourcesDB\")\r\n",
    "#cur = conn.cursor()\r\n",
    "#cur.execute(sql)\r\n",
    "#conn.commit()"
   ],
   "outputs": [],
   "metadata": {}
  },
  {
   "cell_type": "code",
   "execution_count": 13,
   "source": [
    "def create_connection(db_file):\r\n",
    "    \"\"\" create a database connection to the SQLite database\r\n",
    "        specified by the db_file\r\n",
    "    :param db_file: database file\r\n",
    "    :return: Connection object or None\r\n",
    "    \"\"\"\r\n",
    "    conn = None\r\n",
    "    try:\r\n",
    "        conn = sqlite3.connect(db_file)\r\n",
    "    except Error as e:\r\n",
    "        print(e)\r\n",
    "\r\n",
    "    return conn\r\n",
    "'''\r\n",
    "def get_everything(conn):\r\n",
    "    cursor = conn.execute('select * from dataObligations')\r\n",
    "    names = list(map(lambda x: x[0], cursor.description))\r\n",
    "\r\n",
    "    print(names)\r\n",
    "'''\r\n",
    "\r\n",
    "def select_by_slot(conn, slot_name, slot_value):\r\n",
    "    \"\"\"\r\n",
    "    Query all rows in the tasks table\r\n",
    "    :param conn: the Connection object\r\n",
    "    :return:\r\n",
    "    \"\"\"\r\n",
    "    cur = conn.cursor()\r\n",
    "    cur.execute(f\"\"\"SELECT * FROM dataObligations\r\n",
    "                WHERE {slot_name}='{slot_value}'\"\"\")\r\n",
    "\r\n",
    "    rows = cur.fetchall()\r\n",
    "\r\n",
    "    if len(list(rows)) < 1:\r\n",
    "        print(\"There are no resources matching your query.\")\r\n",
    "    else:\r\n",
    "        for row in random.sample(rows, 1):\r\n",
    "            print(f\"Try the {(row[4]).lower()} {row[0]} by {row[1]}. You can find it at {row[2]}.\")\r\n",
    "\r\n",
    "#get_everything(create_connection(\"./resourcesDB\"))\r\n",
    "select_by_slot(create_connection(\"./resourcesDB\"),\r\n",
    "    slot_name=\"ID\",slot_value=\"VAT\")"
   ],
   "outputs": [
    {
     "output_type": "stream",
     "name": "stdout",
     "text": [
      "Try the 2021-05-20 00:00:00 202104 by VAT. You can find it at VAT.\n"
     ]
    }
   ],
   "metadata": {}
  },
  {
   "cell_type": "code",
   "execution_count": 14,
   "source": [
    "# This files contains your custom actions which can be used to run\r\n",
    "# custom Python code.\r\n",
    "#\r\n",
    "# See this guide on how to implement these action:\r\n",
    "# https://rasa.com/docs/rasa/custom-actions\r\n",
    "\r\n",
    "from typing import Any, Text, Dict, List\r\n",
    "\r\n",
    "from rasa_sdk import Action, Tracker\r\n",
    "from rasa_sdk.executor import CollectingDispatcher\r\n",
    "\r\n",
    "import sqlite3\r\n",
    "import random\r\n",
    "\r\n",
    "\r\n",
    "class QueryResourceType(Action):\r\n",
    "\r\n",
    "    def name(self) -> Text:\r\n",
    "        return \"query_resource_type\"\r\n",
    "\r\n",
    "    def run(self, dispatcher: CollectingDispatcher,\r\n",
    "            tracker: Tracker,\r\n",
    "            domain: Dict[Text, Any]) -> List[Dict[Text, Any]]:\r\n",
    "\r\n",
    "        conn = create_connection(self, db_file=\"../primavera_db/resourcesDB\")\r\n",
    "\r\n",
    "        slot_value = tracker.get_slot(\"obligation_type\")\r\n",
    "        slot_name = \"ID\"\r\n",
    "\r\n",
    "        get_query_results = select_by_slot(self, conn=conn,\r\n",
    "            slot_name=slot_name,slot_value=slot_value)\r\n",
    "        dispatcher.utter_message(text=get_query_results)\r\n",
    "\r\n",
    "        return []\r\n",
    "\r\n",
    "    def create_connection(db_file):\r\n",
    "        \"\"\" create a database connection to the SQLite database\r\n",
    "            specified by the db_file\r\n",
    "        :param db_file: database file\r\n",
    "        :return: Connection object or None\r\n",
    "        \"\"\"\r\n",
    "        conn = None\r\n",
    "        try:\r\n",
    "            conn = sqlite3.connect(db_file)\r\n",
    "        except Error as e:\r\n",
    "            print(e)\r\n",
    "\r\n",
    "        return conn\r\n",
    "\r\n",
    "    def select_by_slot(conn, slot_name, slot_value):\r\n",
    "        \"\"\"\r\n",
    "        Query all rows in the tasks table\r\n",
    "        :param conn: the Connection object\r\n",
    "        :return:\r\n",
    "        \"\"\"\r\n",
    "        cur = conn.cursor()\r\n",
    "        cur.execute(f\"\"\"SELECT * FROM eduresource\r\n",
    "                    WHERE {slot_name}='{slot_value}'\"\"\")\r\n",
    "\r\n",
    "        rows = cur.fetchall()\r\n",
    "\r\n",
    "        if len(list(rows)) < 1:\r\n",
    "            return[(\"There are no resources matching your query.\")]\r\n",
    "        else:\r\n",
    "            for row in random.sample(rows, 1):\r\n",
    "                return[print(f\"Try the {(row[4]).lower()} {row[0]} by {row[1]}. You can find it at {row[2]}.\")]"
   ],
   "outputs": [],
   "metadata": {}
  },
  {
   "cell_type": "code",
   "execution_count": 15,
   "source": [
    "# from: https://techoverflow.net/2019/10/14/how-to-list-tables-in-sqlite3-database-in-python/\r\n",
    "def tables_in_sqlite_db(conn):\r\n",
    "    cursor = conn.execute(\"SELECT name FROM sqlite_master WHERE type='table';\")\r\n",
    "    tables = [\r\n",
    "        v[0] for v in cursor.fetchall()\r\n",
    "        if v[0] != \"sqlite_sequence\"\r\n",
    "    ]\r\n",
    "    cursor.close()\r\n",
    "    return tables"
   ],
   "outputs": [],
   "metadata": {}
  },
  {
   "cell_type": "code",
   "execution_count": null,
   "source": [],
   "outputs": [],
   "metadata": {}
  },
  {
   "cell_type": "code",
   "execution_count": 16,
   "source": [
    "conn = QueryResourceType.create_connection(\"../resourcesDB\")\r\n",
    "print(tables_in_sqlite_db(conn))"
   ],
   "outputs": [
    {
     "output_type": "stream",
     "name": "stdout",
     "text": [
      "[]\n"
     ]
    }
   ],
   "metadata": {}
  }
 ]
}